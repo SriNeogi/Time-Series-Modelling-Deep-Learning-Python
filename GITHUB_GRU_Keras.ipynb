{
 "cells": [
  {
   "cell_type": "code",
   "execution_count": 2,
   "id": "1e7a68e5-2b34-447a-88ce-4dd483578d7b",
   "metadata": {},
   "outputs": [],
   "source": [
    "import tensorflow as tf\n",
    "from tensorflow import keras\n",
    "import numpy as np\n",
    "import pandas as pd\n",
    "import matplotlib.pyplot as plt\n",
    "%matplotlib inline\n",
    "from keras.models import Sequential\n",
    "from keras.layers import GRU,Dense, Bidirectional, Dropout\n",
    "from sklearn.metrics import mean_squared_error, mean_absolute_error"
   ]
  },
  {
   "cell_type": "code",
   "execution_count": 3,
   "id": "cebdaf8b-28a4-4812-9247-ce17ccf6760f",
   "metadata": {},
   "outputs": [
    {
     "data": {
      "text/html": [
       "<div>\n",
       "<style scoped>\n",
       "    .dataframe tbody tr th:only-of-type {\n",
       "        vertical-align: middle;\n",
       "    }\n",
       "\n",
       "    .dataframe tbody tr th {\n",
       "        vertical-align: top;\n",
       "    }\n",
       "\n",
       "    .dataframe thead th {\n",
       "        text-align: right;\n",
       "    }\n",
       "</style>\n",
       "<table border=\"1\" class=\"dataframe\">\n",
       "  <thead>\n",
       "    <tr style=\"text-align: right;\">\n",
       "      <th></th>\n",
       "      <th>Market</th>\n",
       "      <th>Sales Product</th>\n",
       "      <th>21-Dec</th>\n",
       "      <th>22-Jan</th>\n",
       "      <th>22-Feb</th>\n",
       "      <th>22-Mar</th>\n",
       "      <th>22-Apr</th>\n",
       "      <th>22-May</th>\n",
       "      <th>22-Jun</th>\n",
       "      <th>22-Jul</th>\n",
       "      <th>...</th>\n",
       "      <th>24-Feb</th>\n",
       "      <th>24-Mar</th>\n",
       "      <th>24-Apr</th>\n",
       "      <th>24-May</th>\n",
       "      <th>24-Jun</th>\n",
       "      <th>24-Jul</th>\n",
       "      <th>24-Aug</th>\n",
       "      <th>24-Sep</th>\n",
       "      <th>24-Oct</th>\n",
       "      <th>24-Nov</th>\n",
       "    </tr>\n",
       "  </thead>\n",
       "  <tbody>\n",
       "    <tr>\n",
       "      <th>0</th>\n",
       "      <td>AFRICA</td>\n",
       "      <td>AB12345</td>\n",
       "      <td>305</td>\n",
       "      <td>302</td>\n",
       "      <td>1503</td>\n",
       "      <td>1471</td>\n",
       "      <td>1583</td>\n",
       "      <td>2080</td>\n",
       "      <td>1490</td>\n",
       "      <td>672</td>\n",
       "      <td>...</td>\n",
       "      <td>787</td>\n",
       "      <td>1417</td>\n",
       "      <td>847</td>\n",
       "      <td>777</td>\n",
       "      <td>1128</td>\n",
       "      <td>1427</td>\n",
       "      <td>846</td>\n",
       "      <td>1475</td>\n",
       "      <td>1572</td>\n",
       "      <td>927</td>\n",
       "    </tr>\n",
       "    <tr>\n",
       "      <th>1</th>\n",
       "      <td>ASIA</td>\n",
       "      <td>AB12346</td>\n",
       "      <td>1892</td>\n",
       "      <td>1071</td>\n",
       "      <td>2065</td>\n",
       "      <td>841</td>\n",
       "      <td>1542</td>\n",
       "      <td>2142</td>\n",
       "      <td>691</td>\n",
       "      <td>103</td>\n",
       "      <td>...</td>\n",
       "      <td>615</td>\n",
       "      <td>1166</td>\n",
       "      <td>1538</td>\n",
       "      <td>1206</td>\n",
       "      <td>1129</td>\n",
       "      <td>290</td>\n",
       "      <td>426</td>\n",
       "      <td>762</td>\n",
       "      <td>1775</td>\n",
       "      <td>777</td>\n",
       "    </tr>\n",
       "    <tr>\n",
       "      <th>2</th>\n",
       "      <td>OCEANIA</td>\n",
       "      <td>AC12347</td>\n",
       "      <td>1728</td>\n",
       "      <td>1912</td>\n",
       "      <td>193</td>\n",
       "      <td>102</td>\n",
       "      <td>465</td>\n",
       "      <td>1279</td>\n",
       "      <td>1748</td>\n",
       "      <td>1817</td>\n",
       "      <td>...</td>\n",
       "      <td>1834</td>\n",
       "      <td>1392</td>\n",
       "      <td>1746</td>\n",
       "      <td>759</td>\n",
       "      <td>2258</td>\n",
       "      <td>2062</td>\n",
       "      <td>223</td>\n",
       "      <td>142</td>\n",
       "      <td>635</td>\n",
       "      <td>1295</td>\n",
       "    </tr>\n",
       "    <tr>\n",
       "      <th>3</th>\n",
       "      <td>EUROPE</td>\n",
       "      <td>AD12348</td>\n",
       "      <td>776</td>\n",
       "      <td>1499</td>\n",
       "      <td>660</td>\n",
       "      <td>1127</td>\n",
       "      <td>214</td>\n",
       "      <td>174</td>\n",
       "      <td>351</td>\n",
       "      <td>1184</td>\n",
       "      <td>...</td>\n",
       "      <td>561</td>\n",
       "      <td>316</td>\n",
       "      <td>1961</td>\n",
       "      <td>1005</td>\n",
       "      <td>1936</td>\n",
       "      <td>331</td>\n",
       "      <td>432</td>\n",
       "      <td>873</td>\n",
       "      <td>1753</td>\n",
       "      <td>870</td>\n",
       "    </tr>\n",
       "    <tr>\n",
       "      <th>4</th>\n",
       "      <td>NORTH AMERICA</td>\n",
       "      <td>AS12349</td>\n",
       "      <td>720</td>\n",
       "      <td>1101</td>\n",
       "      <td>1516</td>\n",
       "      <td>1395</td>\n",
       "      <td>967</td>\n",
       "      <td>44</td>\n",
       "      <td>638</td>\n",
       "      <td>521</td>\n",
       "      <td>...</td>\n",
       "      <td>975</td>\n",
       "      <td>1329</td>\n",
       "      <td>933</td>\n",
       "      <td>310</td>\n",
       "      <td>1533</td>\n",
       "      <td>1836</td>\n",
       "      <td>1644</td>\n",
       "      <td>2095</td>\n",
       "      <td>2268</td>\n",
       "      <td>1076</td>\n",
       "    </tr>\n",
       "  </tbody>\n",
       "</table>\n",
       "<p>5 rows × 38 columns</p>\n",
       "</div>"
      ],
      "text/plain": [
       "          Market Sales Product  21-Dec  22-Jan  22-Feb  22-Mar  22-Apr  \\\n",
       "0         AFRICA       AB12345     305     302    1503    1471    1583   \n",
       "1           ASIA       AB12346    1892    1071    2065     841    1542   \n",
       "2        OCEANIA       AC12347    1728    1912     193     102     465   \n",
       "3         EUROPE       AD12348     776    1499     660    1127     214   \n",
       "4  NORTH AMERICA       AS12349     720    1101    1516    1395     967   \n",
       "\n",
       "   22-May  22-Jun  22-Jul  ...  24-Feb  24-Mar  24-Apr  24-May  24-Jun  \\\n",
       "0    2080    1490     672  ...     787    1417     847     777    1128   \n",
       "1    2142     691     103  ...     615    1166    1538    1206    1129   \n",
       "2    1279    1748    1817  ...    1834    1392    1746     759    2258   \n",
       "3     174     351    1184  ...     561     316    1961    1005    1936   \n",
       "4      44     638     521  ...     975    1329     933     310    1533   \n",
       "\n",
       "   24-Jul  24-Aug  24-Sep  24-Oct  24-Nov  \n",
       "0    1427     846    1475    1572     927  \n",
       "1     290     426     762    1775     777  \n",
       "2    2062     223     142     635    1295  \n",
       "3     331     432     873    1753     870  \n",
       "4    1836    1644    2095    2268    1076  \n",
       "\n",
       "[5 rows x 38 columns]"
      ]
     },
     "execution_count": 3,
     "metadata": {},
     "output_type": "execute_result"
    }
   ],
   "source": [
    "# Import\n",
    "df0 = pd.read_csv('Sample_Market_SKU_data.csv')\n",
    "#NOTE: This is a horizontal, row-wise, time series dataset\n",
    "df0.head()"
   ]
  },
  {
   "cell_type": "code",
   "execution_count": 4,
   "id": "03ceb10f-6571-49c1-a174-060243012cb3",
   "metadata": {},
   "outputs": [
    {
     "data": {
      "text/plain": [
       "(1, 36)"
      ]
     },
     "execution_count": 4,
     "metadata": {},
     "output_type": "execute_result"
    }
   ],
   "source": [
    "#Remove the non-numeric columns,\n",
    "#Find the shape for tensor operations\n",
    "df1=df0.iloc[:1,2:] #select the first time series AFRICA\tAB12345\t\n",
    "df1.shape\n"
   ]
  },
  {
   "cell_type": "code",
   "execution_count": 5,
   "id": "c44d2ed9-7dd5-4f8d-8f04-cfbd0c007083",
   "metadata": {},
   "outputs": [
    {
     "data": {
      "text/plain": [
       "(36,)"
      ]
     },
     "execution_count": 5,
     "metadata": {},
     "output_type": "execute_result"
    }
   ],
   "source": [
    "training_set0=np.array(df1)\n",
    "training_set=training_set0.reshape(36,)\n",
    "training_set.shape"
   ]
  },
  {
   "cell_type": "code",
   "execution_count": 6,
   "id": "c4085512-ad2e-4611-a413-ca373cabf023",
   "metadata": {},
   "outputs": [],
   "source": [
    "data=training_set\n",
    "# Define lookback window\n",
    "lookback_window =6\n",
    "# Create input and output sequences\n",
    "X = []\n",
    "y = []\n",
    "for i in range(lookback_window, len(data)):\n",
    "    X.append(data[i - lookback_window:i])\n",
    "    y.append(data[i])\n",
    "\n",
    "X = np.array(X)\n",
    "y = np.array(y)\n",
    "# Split into training and testing sets\n",
    "train_size = int(len(X) * 0.95)\n",
    "test_size = len(X) - train_size\n",
    "X_train, X_test = X[:train_size], X[train_size:]\n",
    "y_train, y_test = y[:train_size], y[train_size:]\n"
   ]
  },
  {
   "cell_type": "code",
   "execution_count": 7,
   "id": "9e986d06-8fd8-4c69-9d57-32c49d60eb90",
   "metadata": {},
   "outputs": [
    {
     "data": {
      "text/plain": [
       "(28, 6)"
      ]
     },
     "execution_count": 7,
     "metadata": {},
     "output_type": "execute_result"
    }
   ],
   "source": [
    "X_train.shape"
   ]
  },
  {
   "cell_type": "code",
   "execution_count": 8,
   "id": "5c40b237-dcd0-418b-bac8-42bbf6e9e2b1",
   "metadata": {},
   "outputs": [
    {
     "data": {
      "text/plain": [
       "(2, 6)"
      ]
     },
     "execution_count": 8,
     "metadata": {},
     "output_type": "execute_result"
    }
   ],
   "source": [
    "X_test.shape"
   ]
  },
  {
   "cell_type": "code",
   "execution_count": 14,
   "id": "2e52b1a0-3d9c-4e05-a797-abab1bc0d470",
   "metadata": {},
   "outputs": [
    {
     "name": "stdout",
     "output_type": "stream",
     "text": [
      "1/1 [==============================] - 0s 217ms/step\n",
      "Mean Squared Error: 316369.7788961306\n",
      "Mean Absolute Error: 441.22381591796875\n"
     ]
    }
   ],
   "source": [
    "#Define GRU model \n",
    "\n",
    "model = Sequential()\n",
    "model.add(GRU(units=42, activation='relu',input_shape=(lookback_window, 1)))  # Adjust units as needed\n",
    "model.add(Dense(1))\n",
    "#Compile\n",
    "model.compile(optimizer='adam', loss='mean_squared_error')\n",
    "\n",
    "# Train the model\n",
    "model.fit(X_train, y_train, epochs=500, batch_size=3,verbose=False)\n",
    "\n",
    "# Make predictions on the test set\n",
    "y_pred = model.predict(X_test)\n",
    "# Calculate evaluation metrics\n",
    "mse = mean_squared_error(y_test, y_pred)\n",
    "mae = mean_absolute_error(y_test, y_pred)\n",
    "print(\"Mean Squared Error:\", mse)\n",
    "print(\"Mean Absolute Error:\", mae)"
   ]
  },
  {
   "cell_type": "code",
   "execution_count": 15,
   "id": "233d7777-b2c9-460b-b2cc-4b8cdce41e45",
   "metadata": {},
   "outputs": [
    {
     "name": "stdout",
     "output_type": "stream",
     "text": [
      "1/1 [==============================] - 0s 27ms/step\n",
      "1/1 [==============================] - 0s 202ms/step\n",
      "1/1 [==============================] - 0s 23ms/step\n",
      "1/1 [==============================] - 0s 23ms/step\n",
      "1/1 [==============================] - 0s 26ms/step\n",
      "1/1 [==============================] - 0s 26ms/step\n",
      "1/1 [==============================] - 0s 26ms/step\n",
      "1/1 [==============================] - 0s 22ms/step\n",
      "1/1 [==============================] - 0s 24ms/step\n",
      "1/1 [==============================] - 0s 25ms/step\n",
      "1/1 [==============================] - 0s 26ms/step\n",
      "1/1 [==============================] - 0s 24ms/step\n",
      "1/1 [==============================] - 0s 23ms/step\n",
      "1/1 [==============================] - 0s 29ms/step\n",
      "1/1 [==============================] - 0s 23ms/step\n",
      "1/1 [==============================] - 0s 25ms/step\n",
      "1/1 [==============================] - 0s 26ms/step\n",
      "1/1 [==============================] - 0s 26ms/step\n",
      "1/1 [==============================] - 0s 26ms/step\n",
      "1/1 [==============================] - 0s 24ms/step\n",
      "1/1 [==============================] - 0s 23ms/step\n",
      "[[389.58453369 628.67456055 337.08248901 333.59954834 367.37057495\n",
      "  408.48031616]]\n"
     ]
    }
   ],
   "source": [
    "# Predict the next 21 points with feedback\n",
    "n_future = 21\n",
    "y_future = []\n",
    "x_pred = X[-1:, :]  # last observed input sequence\n",
    "y_pred = y[-1]         # last observed target value\n",
    "\n",
    "for i in range(n_future):\n",
    "\n",
    "    # feed the last forecast back to the model as an input\n",
    "    x_pred = np.append(x_pred[:, 1:], y_pred.reshape(1, 1), axis=1)\n",
    "\n",
    "    # generate the next forecast\n",
    "    y_pred = model.predict(x_pred)\n",
    "\n",
    "    # save the forecast\n",
    "    y_future.append(y_pred.flatten()[0])\n",
    "\n",
    "print(x_pred)"
   ]
  },
  {
   "cell_type": "code",
   "execution_count": 16,
   "id": "2c424aa3-4dac-407a-b3eb-5010716e1c89",
   "metadata": {},
   "outputs": [],
   "source": [
    "# Create a DataFrame for the predicted values\n",
    "predictions_df2 = pd.DataFrame({'Predicted Values': y_future})\n",
    "# Save the predictions to a CSV file and export it\n",
    "predictions_df2.to_csv('predictions_GRU_OUTPUT.csv', index=False)"
   ]
  },
  {
   "cell_type": "code",
   "execution_count": 17,
   "id": "78830b56-a606-4661-b87c-534fcedf72e0",
   "metadata": {},
   "outputs": [],
   "source": [
    "#Create dataframes to visualise the forecast\n",
    "data_df=pd.DataFrame(data)\n",
    "y_future=pd.DataFrame(y_future)\n",
    "#Add empty rows in y_future for historical data\n",
    "df_zero=pd.DataFrame(np.zeros(len(data_df)))\n",
    "#Concat empty rows with y_future for historical data\n",
    "y_future2=pd.concat([df_zero,y_future],ignore_index=True,axis=0)\n",
    "#Concat y_future2 with historical dat\n",
    "final=pd.concat([data_df,y_future2], ignore_index=True,axis=1)"
   ]
  },
  {
   "cell_type": "code",
   "execution_count": 18,
   "id": "5c3b3ee6-70cf-46cd-9610-09b5ead79d66",
   "metadata": {},
   "outputs": [
    {
     "data": {
      "image/png": "[encoded data removed]",
      "text/plain": [
       "<Figure size 1000x500 with 1 Axes>"
      ]
     },
     "metadata": {},
     "output_type": "display_data"
    }
   ],
   "source": [
    "#Plot with the forecast with actuals\n",
    "plt.style.use('ggplot')\n",
    "plt.figure(figsize=(10, 5))\n",
    "plt.plot(final, marker='o')\n",
    "plt.title('GRU Output for Time Series')\n",
    "plt.xlabel('Month')\n",
    "plt.ylabel('Units')\n",
    "plt.show()"
   ]
  }
 ],
 "metadata": {
  "kernelspec": {
   "display_name": "Python 3 (ipykernel)",
   "language": "python",
   "name": "python3"
  },
  "language_info": {
   "codemirror_mode": {
    "name": "ipython",
    "version": 3
   },
   "file_extension": ".py",
   "mimetype": "text/x-python",
   "name": "python",
   "nbconvert_exporter": "python",
   "pygments_lexer": "ipython3",
   "version": "3.11.9"
  }
 },
 "nbformat": 4,
 "nbformat_minor": 5
}
